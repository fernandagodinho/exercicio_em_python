{
  "nbformat": 4,
  "nbformat_minor": 0,
  "metadata": {
    "colab": {
      "provenance": [],
      "authorship_tag": "ABX9TyNOyIHsc9uPsvaDZ/jtY2jo",
      "include_colab_link": true
    },
    "kernelspec": {
      "name": "python3",
      "display_name": "Python 3"
    },
    "language_info": {
      "name": "python"
    }
  },
  "cells": [
    {
      "cell_type": "markdown",
      "metadata": {
        "id": "view-in-github",
        "colab_type": "text"
      },
      "source": [
        "<a href=\"https://colab.research.google.com/github/fernandagodinho/exercicio_em_python/blob/main/Untitled0.ipynb\" target=\"_parent\"><img src=\"https://colab.research.google.com/assets/colab-badge.svg\" alt=\"Open In Colab\"/></a>"
      ]
    },
    {
      "cell_type": "code",
      "execution_count": 2,
      "metadata": {
        "colab": {
          "base_uri": "https://localhost:8080/",
          "height": 715
        },
        "id": "HDBhvwK4U1PI",
        "outputId": "3459cfaf-e051-4751-9bb4-8e0bede603c2"
      },
      "outputs": [
        {
          "output_type": "stream",
          "name": "stdout",
          "text": [
            "Simulador de Nota Escolar (Versão com Relatório e Gráfico)\n",
            "Digite o nome do aluno: fernanda\n",
            "Insira três notas (entre 0 e 10):\n",
            "Nota 1: 8\n",
            "Nota 2: 9\n",
            "Nota 3: 10\n",
            "\n",
            "--- Relatório do Aluno ---\n",
            "Nome: fernanda\n",
            "Notas: [8.0, 9.0, 10.0]\n",
            "Média Final: 9.00\n",
            "Status: Aprovado\n"
          ]
        },
        {
          "output_type": "display_data",
          "data": {
            "text/plain": [
              "<Figure size 640x480 with 1 Axes>"
            ],
            "image/png": "[encoded data removed]"
          },
          "metadata": {}
        },
        {
          "output_type": "stream",
          "name": "stdout",
          "text": [
            "\n",
            "Obrigado por usar o simulador de nota escolar!\n"
          ]
        }
      ],
      "source": [
        "import matplotlib.pyplot as plt\n",
        "\n",
        "class Aluno:\n",
        "    def __init__(self, nome, notas):\n",
        "\n",
        "        self.nome = nome\n",
        "        self.notas = notas\n",
        "\n",
        "    def calcular_media(self):\n",
        "\n",
        "        return sum(self.notas) / len(self.notas)\n",
        "\n",
        "    def verificar_aprovacao(self):\n",
        "\n",
        "        media = self.calcular_media()\n",
        "        return \"Aprovado\" if media >= 7 else \"Reprovado\"\n",
        "\n",
        "    def gerar_relatorio(self):\n",
        "\n",
        "        media = self.calcular_media()\n",
        "        status = self.verificar_aprovacao()\n",
        "        print(\"\\n--- Relatório do Aluno ---\")\n",
        "        print(f\"Nome: {self.nome}\")\n",
        "        print(f\"Notas: {self.notas}\")\n",
        "        print(f\"Média Final: {media:.2f}\")\n",
        "        print(f\"Status: {status}\")\n",
        "\n",
        "    def gerar_grafico(self):\n",
        "\n",
        "        plt.bar(range(1, len(self.notas) + 1), self.notas, color='blue', alpha=0.7)\n",
        "        plt.title(f\"Desempenho de {self.nome}\")\n",
        "        plt.xlabel(\"Provas\")\n",
        "        plt.ylabel(\"Notas\")\n",
        "        plt.xticks(range(1, len(self.notas) + 1), [f\"Prova {i}\" for i in range(1, len(self.notas) + 1)])\n",
        "        plt.ylim(0, 10)  # Define o limite das notas entre 0 e 10\n",
        "        plt.axhline(y=7, color='green', linestyle='--', label='Média de Aprovação (7)')\n",
        "        plt.legend()\n",
        "        plt.show()\n",
        "\n",
        "\n",
        "# Fluxo principal do programa\n",
        "print(\"Simulador de Nota Escolar (Versão com Relatório e Gráfico)\")\n",
        "\n",
        "# Entrada de dados do aluno\n",
        "nome = input(\"Digite o nome do aluno: \")\n",
        "print(\"Insira três notas (entre 0 e 10):\")\n",
        "notas = [\n",
        "    float(input(\"Nota 1: \")),\n",
        "    float(input(\"Nota 2: \")),\n",
        "    float(input(\"Nota 3: \"))\n",
        "]\n",
        "\n",
        "# Criação do objeto Aluno e exibição dos resultados\n",
        "aluno = Aluno(nome, notas)\n",
        "aluno.gerar_relatorio()\n",
        "aluno.gerar_grafico()\n",
        "\n",
        "print(\"\\nObrigado por usar o simulador de nota escolar!\")\n"
      ]
    }
  ]
}